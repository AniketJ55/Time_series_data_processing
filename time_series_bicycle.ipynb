{
 "cells": [
  {
   "cell_type": "code",
   "execution_count": 19,
   "metadata": {},
   "outputs": [
    {
     "ename": "SyntaxError",
     "evalue": "invalid syntax (<ipython-input-19-bf2678f65aa3>, line 2)",
     "output_type": "error",
     "traceback": [
      "\u001b[1;36m  File \u001b[1;32m\"<ipython-input-19-bf2678f65aa3>\"\u001b[1;36m, line \u001b[1;32m2\u001b[0m\n\u001b[1;33m    data = pd.read_csv('fremont-bridge.csv', index_col= 'Date', parse_dates= <strong>True</strong>)\u001b[0m\n\u001b[1;37m                                                                             ^\u001b[0m\n\u001b[1;31mSyntaxError\u001b[0m\u001b[1;31m:\u001b[0m invalid syntax\n"
     ]
    }
   ],
   "source": [
    "import pandas as pd\n",
    "data = pd.read_csv('fremont-bridge.csv', index_col= 'Date', parse_dates= <strong>True</strong>)\n",
    "data.head()\n",
    "\n",
    "data.columns = [\"West\", \"East\"]\n",
    "data[\"Total\"] = data[\"West\"] + data[\"East\"] \n",
    "data.head()\n",
    "\n",
    "data.dropna().describe()\n",
    "\n",
    "import matplotlib.pyplot as plt\n",
    "import seaborn\n",
    "seaborn.set()\n",
    "data.plot()\n",
    "plt.ylabel(\"Hourly Bicycle count\")\n",
    "plt.show()\n",
    "\n",
    "weekly = data.resample(\"W\").sum()\n",
    "weekly.plot(style=[':', '--', '-'])\n",
    "plt.ylabel('Weekly bicycle count')\n",
    "plt.show()\n",
    "\n",
    "daily = data.resample('D').sum()\n",
    "daily.rolling(30, center=True).sum().plot(style=[':', '--', '-'])\n",
    "plt.ylabel('mean hourly count')\n",
    "plt.show()\n",
    "\n",
    "daily.rolling(50, center=True,\n",
    "              win_type='gaussian').sum(std=10).plot(style=[':','--', '-'])\n",
    "plt.show()\n",
    "\n",
    "import numpy as np\n",
    "by_time = data.groupby(data.index.time).mean()\n",
    "hourly_ticks = 4 * 60 * 60 * np.arange(6)\n",
    "by_time.plot(xticks= hourly_ticks, style=[':', '--', '-'])\n",
    "plt.ylabel(\"Traffic according to time\")\n",
    "plt.show()\n",
    "\n",
    "\n"
   ]
  },
  {
   "cell_type": "code",
   "execution_count": null,
   "metadata": {},
   "outputs": [],
   "source": []
  }
 ],
 "metadata": {
  "kernelspec": {
   "display_name": "Python 3",
   "language": "python",
   "name": "python3"
  },
  "language_info": {
   "codemirror_mode": {
    "name": "ipython",
    "version": 3
   },
   "file_extension": ".py",
   "mimetype": "text/x-python",
   "name": "python",
   "nbconvert_exporter": "python",
   "pygments_lexer": "ipython3",
   "version": "3.7.4"
  }
 },
 "nbformat": 4,
 "nbformat_minor": 2
}
